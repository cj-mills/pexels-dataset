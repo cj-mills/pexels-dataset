{
 "cells": [
  {
   "cell_type": "code",
   "execution_count": null,
   "id": "9fda742e",
   "metadata": {},
   "outputs": [],
   "source": [
    "# !pip install -U beautifulsoup4 cloudscraper pandas pillow\n",
    "# !pip install -U cjm_parallel_utils"
   ]
  },
  {
   "cell_type": "code",
   "execution_count": null,
   "id": "812d24e1",
   "metadata": {},
   "outputs": [],
   "source": [
    "import random\n",
    "from pathlib import Path\n",
    "import json\n",
    "import re\n",
    "import queue\n",
    "from functools import partial\n",
    "\n",
    "from bs4 import BeautifulSoup\n",
    "import cloudscraper\n",
    "\n",
    "import pandas as pd\n",
    "pd.set_option('max_colwidth', None)  # Do not truncate the contents of cells in the DataFrame\n",
    "pd.set_option('display.max_rows', None)  # Display all rows in the DataFrame\n",
    "pd.set_option('display.max_columns', None)  # Display all columns in the DataFrame"
   ]
  },
  {
   "cell_type": "code",
   "execution_count": null,
   "id": "1019988c",
   "metadata": {},
   "outputs": [],
   "source": [
    "from cjm_parallel_utils.core import parallel"
   ]
  },
  {
   "cell_type": "code",
   "execution_count": null,
   "id": "28e2534e",
   "metadata": {},
   "outputs": [],
   "source": []
  },
  {
   "cell_type": "code",
   "execution_count": null,
   "id": "aec67f79",
   "metadata": {},
   "outputs": [],
   "source": [
    "scraper = cloudscraper.create_scraper()"
   ]
  },
  {
   "cell_type": "code",
   "execution_count": null,
   "id": "7f5b6e33",
   "metadata": {},
   "outputs": [],
   "source": [
    "url = \"https://www.pexels.com/new-photos/\"\n",
    "page_resp = scraper.get(url)\n",
    "html_soup =  BeautifulSoup(page_resp.text, 'html.parser')"
   ]
  },
  {
   "cell_type": "code",
   "execution_count": null,
   "id": "a8f09135",
   "metadata": {},
   "outputs": [
    {
     "data": {
      "text/plain": [
       "['15509817',\n",
       " '15509790',\n",
       " '15509771',\n",
       " '15509711',\n",
       " '15509710',\n",
       " '15509709',\n",
       " '15508999',\n",
       " '15508666',\n",
       " '15504968',\n",
       " '15504460',\n",
       " '15500431',\n",
       " '15500423']"
      ]
     },
     "execution_count": null,
     "metadata": {},
     "output_type": "execute_result"
    }
   ],
   "source": [
    "target_tag='article'\n",
    "img_ids = []\n",
    "\n",
    "if len(html_soup.select(target_tag)) > 0:\n",
    "        for t in html_soup.select(target_tag):\n",
    "            match = re.search(r\"photos/\\d+\", str(t))\n",
    "            if match: \n",
    "#                 print(match.group())\n",
    "                img_ids.append(match.group().split('/')[-1])\n",
    "    \n",
    "img_ids = list(set(img_ids))\n",
    "img_ids.sort(reverse=True)\n",
    "img_ids"
   ]
  },
  {
   "cell_type": "code",
   "execution_count": null,
   "id": "88ef39fc",
   "metadata": {},
   "outputs": [
    {
     "data": {
      "text/plain": [
       "'15509817'"
      ]
     },
     "execution_count": null,
     "metadata": {},
     "output_type": "execute_result"
    }
   ],
   "source": [
    "latest_img_id = img_ids[0]\n",
    "latest_img_id"
   ]
  },
  {
   "cell_type": "code",
   "execution_count": null,
   "id": "706246ff",
   "metadata": {},
   "outputs": [],
   "source": [
    "def get_tag_terms(data_dict):\n",
    "    tags = data_dict['props']['pageProps']['medium']['attributes']['tags']\n",
    "    tag_terms = [tag['search_term'] for tag in tags]\n",
    "    return tag_terms"
   ]
  },
  {
   "cell_type": "code",
   "execution_count": null,
   "id": "63add1f2",
   "metadata": {},
   "outputs": [],
   "source": [
    "def get_medium_attributes(data_dict):\n",
    "    medium_attr_df = pd.DataFrame.from_dict(data_dict['props']['pageProps']['medium']['attributes'], orient='index')\n",
    "    drop_list = ['description', 'width', 'height', 'slug', 'status', 'created_at', 'updated_at', 'publish_at', 'feed_at', 'license', 'published', 'starred', 'user', 'tags', 'image', 'alt', 'donate_url', 'collection_ids', 'liked']\n",
    "    medium_attr_df = medium_attr_df.drop(drop_list).transpose()\n",
    "    medium_attr_df['tags'] = ['']\n",
    "    medium_attr_df.at[0, 'tags'] = get_tag_terms(data_dict)\n",
    "    return medium_attr_df"
   ]
  },
  {
   "cell_type": "code",
   "execution_count": null,
   "id": "12ea0a06",
   "metadata": {},
   "outputs": [],
   "source": [
    "def get_medium_detail_attributes(data_dict):\n",
    "    medium_detail_attr_df = pd.DataFrame.from_dict(data_dict['props']['pageProps']['mediumDetails']['attributes'], orient='index')\n",
    "    drop_list = ['copyright', 'created_at', 'fingerprint', 'updated_at', 'photographer', 'photographed_at', 'size', 'photo_id']\n",
    "    return medium_detail_attr_df.drop(drop_list).transpose()"
   ]
  },
  {
   "cell_type": "code",
   "execution_count": null,
   "id": "98b0706e",
   "metadata": {},
   "outputs": [],
   "source": [
    "def get_attributes(img_id, attr_q, missing_q):\n",
    "    url = f\"https://www.pexels.com/photo/{img_id}\"\n",
    "    page_resp = scraper.get(url)\n",
    "    html_soup = BeautifulSoup(page_resp.text, 'html.parser')\n",
    "    try:\n",
    "        next_data_dict = json.loads(html_soup.find('script', type='application/json').string)\n",
    "        if next_data_dict is not None:\n",
    "            if 'medium' not in next_data_dict['props']['pageProps']:\n",
    "                missing_q.put(img_id)\n",
    "                return\n",
    "            if next_data_dict['props']['pageProps']['medium']['attributes']['title'] is None:\n",
    "                missing_q.put(img_id)\n",
    "                return\n",
    "            medium_attr_df = get_medium_attributes(next_data_dict)\n",
    "            medium_detail_attr_df = get_medium_detail_attributes(next_data_dict)\n",
    "            attributes_df = pd.concat([medium_attr_df, medium_detail_attr_df], axis=1).set_index('id')\n",
    "            attr_q.put(attributes_df)\n",
    "    except:\n",
    "        missing_q.put(img_id)"
   ]
  },
  {
   "cell_type": "code",
   "execution_count": null,
   "id": "23607b08",
   "metadata": {},
   "outputs": [],
   "source": [
    "attr_q = queue.Queue()\n",
    "missing_q = queue.Queue()"
   ]
  },
  {
   "cell_type": "code",
   "execution_count": null,
   "id": "671fce85",
   "metadata": {},
   "outputs": [
    {
     "data": {
      "text/plain": [
       "10000"
      ]
     },
     "execution_count": null,
     "metadata": {},
     "output_type": "execute_result"
    }
   ],
   "source": [
    "img_ids = [int(latest_img_id)-i for i in range(1000, 2000)]\n",
    "len(img_ids)"
   ]
  },
  {
   "cell_type": "code",
   "execution_count": null,
   "id": "e99b3995",
   "metadata": {},
   "outputs": [
    {
     "name": "stdout",
     "output_type": "stream",
     "text": [
      "0 1\n"
     ]
    }
   ],
   "source": [
    "get_attributes(img_ids[0], attr_q, missing_q)\n",
    "\n",
    "print(len(attr_q.queue), len(missing_q.queue))\n",
    "\n",
    "if len(attr_q.queue) > 0:\n",
    "    attributes_df = pd.concat(list(attr_q.queue))\n",
    "    attributes_df.head()"
   ]
  },
  {
   "cell_type": "code",
   "execution_count": null,
   "id": "07e7ed2e",
   "metadata": {},
   "outputs": [],
   "source": [
    "attr_q = queue.Queue()\n",
    "missing_q = queue.Queue()"
   ]
  },
  {
   "cell_type": "code",
   "execution_count": null,
   "id": "0d892665",
   "metadata": {},
   "outputs": [],
   "source": []
  },
  {
   "cell_type": "code",
   "execution_count": null,
   "id": "8c29fb63",
   "metadata": {},
   "outputs": [
    {
     "ename": "NameError",
     "evalue": "name 'stop' is not defined",
     "output_type": "error",
     "traceback": [
      "\u001b[0;31m---------------------------------------------------------------------------\u001b[0m",
      "\u001b[0;31mNameError\u001b[0m                                 Traceback (most recent call last)",
      "Cell \u001b[0;32mIn[16], line 1\u001b[0m\n\u001b[0;32m----> 1\u001b[0m \u001b[43mstop\u001b[49m\n",
      "\u001b[0;31mNameError\u001b[0m: name 'stop' is not defined"
     ]
    }
   ],
   "source": [
    "stop"
   ]
  },
  {
   "cell_type": "code",
   "execution_count": null,
   "id": "20098c17",
   "metadata": {},
   "outputs": [
    {
     "data": {
      "application/vnd.jupyter.widget-view+json": {
       "model_id": "",
       "version_major": 2,
       "version_minor": 0
      },
      "text/plain": [
       "  0%|          | 0/1000 [00:00<?, ?it/s]"
      ]
     },
     "metadata": {},
     "output_type": "display_data"
    }
   ],
   "source": [
    "parallel(partial(get_attributes, attr_q=attr_q, missing_q=missing_q), arr=img_ids)"
   ]
  },
  {
   "cell_type": "code",
   "execution_count": null,
   "id": "0a2fa33e",
   "metadata": {},
   "outputs": [
    {
     "data": {
      "text/plain": [
       "(130, 870)"
      ]
     },
     "execution_count": null,
     "metadata": {},
     "output_type": "execute_result"
    }
   ],
   "source": [
    "len(attr_q.queue), len(missing_q.queue)"
   ]
  },
  {
   "cell_type": "code",
   "execution_count": null,
   "id": "d12b232e",
   "metadata": {},
   "outputs": [
    {
     "data": {
      "text/plain": [
       "PosixPath('/mnt/980_1TB_2/Datasets/Pexels_New')"
      ]
     },
     "execution_count": null,
     "metadata": {},
     "output_type": "execute_result"
    }
   ],
   "source": [
    "output_dir = Path(f\"/mnt/980_1TB_2/Datasets/Pexels_New/\")\n",
    "output_dir.mkdir(parents=True, exist_ok=True)\n",
    "output_dir"
   ]
  },
  {
   "cell_type": "code",
   "execution_count": null,
   "id": "9d3a8f6e",
   "metadata": {},
   "outputs": [
    {
     "data": {
      "text/plain": [
       "PosixPath('/mnt/980_1TB_2/Datasets/Pexels_New/missing_img_ids-new.txt')"
      ]
     },
     "execution_count": null,
     "metadata": {},
     "output_type": "execute_result"
    }
   ],
   "source": [
    "missing_ids_file_path = Path(output_dir/\"missing_img_ids-new.txt\")\n",
    "missing_ids_file_path"
   ]
  },
  {
   "cell_type": "code",
   "execution_count": null,
   "id": "a4e3e45d",
   "metadata": {},
   "outputs": [],
   "source": [
    "with open(missing_ids_file_path, \"w\") as write_file:\n",
    "    for img_id in list(missing_q.queue):\n",
    "        write_file.write(f\"{img_id}\\n\")"
   ]
  },
  {
   "cell_type": "code",
   "execution_count": null,
   "id": "ed99a12a",
   "metadata": {},
   "outputs": [
    {
     "data": {
      "text/plain": [
       "PosixPath('/mnt/980_1TB_2/Datasets/Pexels_New/attributes_df-new.json')"
      ]
     },
     "execution_count": null,
     "metadata": {},
     "output_type": "execute_result"
    }
   ],
   "source": [
    "attributes_df_json_file = Path(output_dir/'attributes_df-new.json')\n",
    "attributes_df_json_file"
   ]
  },
  {
   "cell_type": "code",
   "execution_count": null,
   "id": "828732ff",
   "metadata": {},
   "outputs": [
    {
     "data": {
      "text/html": [
       "<div>\n",
       "<style scoped>\n",
       "    .dataframe tbody tr th:only-of-type {\n",
       "        vertical-align: middle;\n",
       "    }\n",
       "\n",
       "    .dataframe tbody tr th {\n",
       "        vertical-align: top;\n",
       "    }\n",
       "\n",
       "    .dataframe thead th {\n",
       "        text-align: right;\n",
       "    }\n",
       "</style>\n",
       "<table border=\"1\" class=\"dataframe\">\n",
       "  <thead>\n",
       "    <tr style=\"text-align: right;\">\n",
       "      <th></th>\n",
       "      <th>title</th>\n",
       "      <th>aspect_ratio</th>\n",
       "      <th>main_color</th>\n",
       "      <th>colors</th>\n",
       "      <th>tags</th>\n",
       "      <th>adult</th>\n",
       "      <th>aperture</th>\n",
       "      <th>camera</th>\n",
       "      <th>focal_length</th>\n",
       "      <th>google_place_id</th>\n",
       "      <th>iso</th>\n",
       "      <th>latitude</th>\n",
       "      <th>longitude</th>\n",
       "      <th>manufacturer</th>\n",
       "      <th>medical</th>\n",
       "      <th>orientation</th>\n",
       "      <th>racy</th>\n",
       "      <th>shutter_speed</th>\n",
       "      <th>software</th>\n",
       "      <th>spoof</th>\n",
       "      <th>violence</th>\n",
       "      <th>location</th>\n",
       "    </tr>\n",
       "    <tr>\n",
       "      <th>id</th>\n",
       "      <th></th>\n",
       "      <th></th>\n",
       "      <th></th>\n",
       "      <th></th>\n",
       "      <th></th>\n",
       "      <th></th>\n",
       "      <th></th>\n",
       "      <th></th>\n",
       "      <th></th>\n",
       "      <th></th>\n",
       "      <th></th>\n",
       "      <th></th>\n",
       "      <th></th>\n",
       "      <th></th>\n",
       "      <th></th>\n",
       "      <th></th>\n",
       "      <th></th>\n",
       "      <th></th>\n",
       "      <th></th>\n",
       "      <th></th>\n",
       "      <th></th>\n",
       "      <th></th>\n",
       "    </tr>\n",
       "  </thead>\n",
       "  <tbody>\n",
       "    <tr>\n",
       "      <th>15508762</th>\n",
       "      <td>January Sunset</td>\n",
       "      <td>1.333333</td>\n",
       "      <td>[138, 98, 135]</td>\n",
       "      <td>[]</td>\n",
       "      <td>[]</td>\n",
       "      <td>very_unlikely</td>\n",
       "      <td>2.8</td>\n",
       "      <td>SM-A037F</td>\n",
       "      <td>3.38</td>\n",
       "      <td>None</td>\n",
       "      <td>2000</td>\n",
       "      <td>None</td>\n",
       "      <td>None</td>\n",
       "      <td>samsung</td>\n",
       "      <td>very_unlikely</td>\n",
       "      <td>1</td>\n",
       "      <td>very_unlikely</td>\n",
       "      <td>0.069</td>\n",
       "      <td>None</td>\n",
       "      <td>very_unlikely</td>\n",
       "      <td>very_unlikely</td>\n",
       "      <td>None</td>\n",
       "    </tr>\n",
       "    <tr>\n",
       "      <th>15508755</th>\n",
       "      <td>Indian Mangoes</td>\n",
       "      <td>1.333333</td>\n",
       "      <td>[104, 113, 84]</td>\n",
       "      <td>[]</td>\n",
       "      <td>[]</td>\n",
       "      <td>very_unlikely</td>\n",
       "      <td>2.8</td>\n",
       "      <td>SM-A037F</td>\n",
       "      <td>3.38</td>\n",
       "      <td>None</td>\n",
       "      <td>125</td>\n",
       "      <td>None</td>\n",
       "      <td>None</td>\n",
       "      <td>samsung</td>\n",
       "      <td>very_unlikely</td>\n",
       "      <td>1</td>\n",
       "      <td>very_unlikely</td>\n",
       "      <td>0.003</td>\n",
       "      <td>None</td>\n",
       "      <td>very_unlikely</td>\n",
       "      <td>very_unlikely</td>\n",
       "      <td>None</td>\n",
       "    </tr>\n",
       "    <tr>\n",
       "      <th>15508756</th>\n",
       "      <td>Necklace</td>\n",
       "      <td>0.748016</td>\n",
       "      <td>[133, 121, 107]</td>\n",
       "      <td>[]</td>\n",
       "      <td>[]</td>\n",
       "      <td>very_unlikely</td>\n",
       "      <td>2.2</td>\n",
       "      <td>Redmi 7A</td>\n",
       "      <td>3.83</td>\n",
       "      <td>None</td>\n",
       "      <td>118</td>\n",
       "      <td>None</td>\n",
       "      <td>None</td>\n",
       "      <td>Xiaomi</td>\n",
       "      <td>very_unlikely</td>\n",
       "      <td>0</td>\n",
       "      <td>unlikely</td>\n",
       "      <td>0.02</td>\n",
       "      <td>pine-user 9 PKQ1.190319.001 V11.0.5.0.PCMINXM release-keys</td>\n",
       "      <td>very_unlikely</td>\n",
       "      <td>very_unlikely</td>\n",
       "      <td>None</td>\n",
       "    </tr>\n",
       "    <tr>\n",
       "      <th>15508747</th>\n",
       "      <td>Gold necklace with earrings</td>\n",
       "      <td>0.748016</td>\n",
       "      <td>[150, 141, 124]</td>\n",
       "      <td>[]</td>\n",
       "      <td>[]</td>\n",
       "      <td>very_unlikely</td>\n",
       "      <td>2.2</td>\n",
       "      <td>Redmi 7A</td>\n",
       "      <td>3.83</td>\n",
       "      <td>None</td>\n",
       "      <td>100</td>\n",
       "      <td>None</td>\n",
       "      <td>None</td>\n",
       "      <td>Xiaomi</td>\n",
       "      <td>very_unlikely</td>\n",
       "      <td>0</td>\n",
       "      <td>unlikely</td>\n",
       "      <td>0.005847953216374269</td>\n",
       "      <td>pine-user 9 PKQ1.190319.001 V11.0.5.0.PCMINXM release-keys</td>\n",
       "      <td>very_unlikely</td>\n",
       "      <td>very_unlikely</td>\n",
       "      <td>None</td>\n",
       "    </tr>\n",
       "    <tr>\n",
       "      <th>15508746</th>\n",
       "      <td>Little bee</td>\n",
       "      <td>1.333333</td>\n",
       "      <td>[144, 131, 61]</td>\n",
       "      <td>[]</td>\n",
       "      <td>[animall, bee, grass, honeybees, insect, insect photography, naturephoto, naturephotography, springtime]</td>\n",
       "      <td>very_unlikely</td>\n",
       "      <td>5.4</td>\n",
       "      <td>COOLPIX L820</td>\n",
       "      <td>37.1</td>\n",
       "      <td>None</td>\n",
       "      <td>250</td>\n",
       "      <td>None</td>\n",
       "      <td>None</td>\n",
       "      <td>NIKON</td>\n",
       "      <td>unlikely</td>\n",
       "      <td>1</td>\n",
       "      <td>very_unlikely</td>\n",
       "      <td>0.004</td>\n",
       "      <td>COOLPIX L820V1.0</td>\n",
       "      <td>unlikely</td>\n",
       "      <td>very_unlikely</td>\n",
       "      <td>None</td>\n",
       "    </tr>\n",
       "  </tbody>\n",
       "</table>\n",
       "</div>"
      ],
      "text/plain": [
       "                                 title aspect_ratio       main_color colors  \\\n",
       "id                                                                            \n",
       "15508762                January Sunset     1.333333   [138, 98, 135]     []   \n",
       "15508755                Indian Mangoes     1.333333   [104, 113, 84]     []   \n",
       "15508756                     Necklace      0.748016  [133, 121, 107]     []   \n",
       "15508747  Gold necklace with earrings      0.748016  [150, 141, 124]     []   \n",
       "15508746                    Little bee     1.333333   [144, 131, 61]     []   \n",
       "\n",
       "                                                                                                              tags  \\\n",
       "id                                                                                                                   \n",
       "15508762                                                                                                        []   \n",
       "15508755                                                                                                        []   \n",
       "15508756                                                                                                        []   \n",
       "15508747                                                                                                        []   \n",
       "15508746  [animall, bee, grass, honeybees, insect, insect photography, naturephoto, naturephotography, springtime]   \n",
       "\n",
       "                  adult aperture           camera focal_length  \\\n",
       "id                                                               \n",
       "15508762  very_unlikely      2.8         SM-A037F         3.38   \n",
       "15508755  very_unlikely      2.8         SM-A037F         3.38   \n",
       "15508756  very_unlikely      2.2         Redmi 7A         3.83   \n",
       "15508747  very_unlikely      2.2         Redmi 7A         3.83   \n",
       "15508746  very_unlikely      5.4  COOLPIX L820            37.1   \n",
       "\n",
       "         google_place_id   iso latitude longitude manufacturer        medical  \\\n",
       "id                                                                              \n",
       "15508762            None  2000     None      None      samsung  very_unlikely   \n",
       "15508755            None   125     None      None      samsung  very_unlikely   \n",
       "15508756            None   118     None      None       Xiaomi  very_unlikely   \n",
       "15508747            None   100     None      None       Xiaomi  very_unlikely   \n",
       "15508746            None   250     None      None        NIKON       unlikely   \n",
       "\n",
       "         orientation           racy         shutter_speed  \\\n",
       "id                                                          \n",
       "15508762           1  very_unlikely                 0.069   \n",
       "15508755           1  very_unlikely                 0.003   \n",
       "15508756           0       unlikely                  0.02   \n",
       "15508747           0       unlikely  0.005847953216374269   \n",
       "15508746           1  very_unlikely                 0.004   \n",
       "\n",
       "                                                            software  \\\n",
       "id                                                                     \n",
       "15508762                                                        None   \n",
       "15508755                                                        None   \n",
       "15508756  pine-user 9 PKQ1.190319.001 V11.0.5.0.PCMINXM release-keys   \n",
       "15508747  pine-user 9 PKQ1.190319.001 V11.0.5.0.PCMINXM release-keys   \n",
       "15508746                             COOLPIX L820V1.0                  \n",
       "\n",
       "                  spoof       violence location  \n",
       "id                                               \n",
       "15508762  very_unlikely  very_unlikely     None  \n",
       "15508755  very_unlikely  very_unlikely     None  \n",
       "15508756  very_unlikely  very_unlikely     None  \n",
       "15508747  very_unlikely  very_unlikely     None  \n",
       "15508746       unlikely  very_unlikely     None  "
      ]
     },
     "execution_count": null,
     "metadata": {},
     "output_type": "execute_result"
    }
   ],
   "source": [
    "attributes_df = pd.concat(list(attr_q.queue))\n",
    "attributes_df.head()"
   ]
  },
  {
   "cell_type": "code",
   "execution_count": null,
   "id": "16747f72",
   "metadata": {},
   "outputs": [],
   "source": [
    "attributes_df.to_json(attributes_df_json_file)"
   ]
  },
  {
   "cell_type": "code",
   "execution_count": null,
   "id": "4b2254f8",
   "metadata": {},
   "outputs": [],
   "source": []
  }
 ],
 "metadata": {
  "kernelspec": {
   "display_name": "Python 3 (ipykernel)",
   "language": "python",
   "name": "python3"
  },
  "language_info": {
   "codemirror_mode": {
    "name": "ipython",
    "version": 3
   },
   "file_extension": ".py",
   "mimetype": "text/x-python",
   "name": "python",
   "nbconvert_exporter": "python",
   "pygments_lexer": "ipython3",
   "version": "3.10.9"
  }
 },
 "nbformat": 4,
 "nbformat_minor": 5
}
